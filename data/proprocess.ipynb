{
 "cells": [
  {
   "cell_type": "code",
   "execution_count": 1,
   "metadata": {},
   "outputs": [],
   "source": [
    "import pandas as pd\n",
    "\n",
    "pd.set_option('display.max_columns', 500)\n",
    "pd.set_option('display.width', 9999999)"
   ]
  },
  {
   "cell_type": "code",
   "execution_count": 2,
   "metadata": {},
   "outputs": [],
   "source": [
    "def generate_feature(row):\n",
    "    # 将两个数字拼接\n",
    "    list = []\n",
    "    list.append(row['hypertension'])\n",
    "    list.append(row['heart_disease'])\n",
    "    return list\n",
    "\n",
    "def generate_text(row):\n",
    "    return f\"\"\"\n",
    "gender: {row['gender']}\n",
    "age: {row['age']}\n",
    "ever_married: {row['ever_married']}\n",
    "work_type: {row['work_type']}\n",
    "Residence_type: {row['Residence_type']}\n",
    "avg_glucose_level: {row['avg_glucose_level']}\n",
    "bmi: {row['bmi']}\n",
    "smoking_status: {row['smoking_status']}\n",
    "\"\"\".strip()\n",
    "\n",
    "def generate_label(row):\n",
    "    return row['stroke']"
   ]
  },
  {
   "cell_type": "code",
   "execution_count": 3,
   "metadata": {},
   "outputs": [
    {
     "name": "stdout",
     "output_type": "stream",
     "text": [
      "      feature                                               text  label\n",
      "8547   [0, 0]  gender: Female\\nage: 76.0\\never_married: Yes\\n...      0\n",
      "24886  [0, 0]  gender: Male\\nage: 0.48\\never_married: No\\nwor...      0\n",
      "20659  [0, 0]  gender: Female\\nage: 39.0\\never_married: Yes\\n...      0\n",
      "22981  [0, 0]  gender: Male\\nage: 28.0\\never_married: Yes\\nwo...      0\n",
      "7909   [1, 0]  gender: Male\\nage: 34.0\\never_married: Yes\\nwo...      0\n",
      "      feature                                               text  label\n",
      "20992  [0, 0]  gender: Male\\nage: 82.0\\never_married: Yes\\nwo...      0\n",
      "11319  [0, 0]  gender: Male\\nage: 47.0\\never_married: Yes\\nwo...      0\n",
      "22406  [0, 0]  gender: Male\\nage: 1.48\\never_married: No\\nwor...      0\n",
      "11157  [0, 0]  gender: Female\\nage: 46.0\\never_married: Yes\\n...      0\n",
      "19729  [0, 0]  gender: Female\\nage: 16.0\\never_married: No\\nw...      0\n"
     ]
    }
   ],
   "source": [
    "# 打开data\\healthcare-dataset-stroke-data.csv文件\n",
    "df_1 = pd.read_csv('./dataset.csv') # 数据地址: https://www.kaggle.com/datasets/shashwatwork/cerebral-stroke-predictionimbalaced-dataset\n",
    "df_2 = pd.read_csv('./healthcare-dataset-stroke-data.csv') # 数据地址: https://www.kaggle.com/datasets/fedesoriano/stroke-prediction-dataset/\n",
    "\n",
    "# 两个数据集column一样, 在row上合并去重\n",
    "df = pd.concat([df_1, df_2]).drop_duplicates().reset_index(drop=True)\n",
    "\n",
    "# 将数据集中的数据按照一定的规则进行处理\n",
    "new_df = pd.DataFrame()\n",
    "new_df['feature'] = df.apply(generate_feature, axis=1)\n",
    "new_df['text'] = df.apply(generate_text, axis=1)\n",
    "new_df['label'] = df.apply(generate_label, axis=1)\n",
    "\n",
    "# 将数据集分为训练集和验证集 比例为8:2\n",
    "train_df = new_df.sample(frac=0.9)\n",
    "eval_df = new_df.drop(train_df.index)\n",
    "\n",
    "# # train 保留 1024 条 0 标签数据 1 不变\n",
    "train_df = pd.concat([train_df[train_df['label'] == 0].sample(n=1000), train_df[train_df['label'] == 1]])\n",
    "# # eval 保留 256 条 0 标签数据 1 不变\n",
    "eval_df = pd.concat([eval_df[eval_df['label'] == 0].sample(n=80), eval_df[eval_df['label'] == 1]])\n",
    "\n",
    "# 查看处理后的数据\n",
    "print(train_df.head())\n",
    "print(eval_df.head())\n"
   ]
  },
  {
   "cell_type": "code",
   "execution_count": 4,
   "metadata": {},
   "outputs": [],
   "source": [
    "# 将新数据以datasets库中的数据集的形式保存\n",
    "from datasets import Dataset, DatasetDict, load_from_disk\n",
    "train_dataset = Dataset.from_pandas(train_df)\n",
    "eval_dataset = Dataset.from_pandas(eval_df)\n",
    "\n",
    "# 融合为一个数据集\n",
    "dataset_dict = DatasetDict({\n",
    "    'train': train_dataset, \n",
    "    'eval': eval_dataset\n",
    "})"
   ]
  },
  {
   "cell_type": "code",
   "execution_count": 5,
   "metadata": {},
   "outputs": [
    {
     "name": "stdout",
     "output_type": "stream",
     "text": [
      "DatasetDict({\n",
      "    train: Dataset({\n",
      "        features: ['feature', 'text', 'label', '__index_level_0__'],\n",
      "        num_rows: 1932\n",
      "    })\n",
      "    eval: Dataset({\n",
      "        features: ['feature', 'text', 'label', '__index_level_0__'],\n",
      "        num_rows: 153\n",
      "    })\n",
      "})\n"
     ]
    }
   ],
   "source": [
    "print(dataset_dict)"
   ]
  },
  {
   "cell_type": "code",
   "execution_count": 6,
   "metadata": {},
   "outputs": [
    {
     "data": {
      "application/vnd.jupyter.widget-view+json": {
       "model_id": "561fe1fcb2fc4e4fba4e7824ad203289",
       "version_major": 2,
       "version_minor": 0
      },
      "text/plain": [
       "Saving the dataset (0/1 shards):   0%|          | 0/1932 [00:00<?, ? examples/s]"
      ]
     },
     "metadata": {},
     "output_type": "display_data"
    },
    {
     "data": {
      "application/vnd.jupyter.widget-view+json": {
       "model_id": "78053813ae2a4367b6c15cef29f23701",
       "version_major": 2,
       "version_minor": 0
      },
      "text/plain": [
       "Saving the dataset (0/1 shards):   0%|          | 0/153 [00:00<?, ? examples/s]"
      ]
     },
     "metadata": {},
     "output_type": "display_data"
    }
   ],
   "source": [
    "# 保存数据集\n",
    "dataset_dict.save_to_disk('./healthcare_stroke')"
   ]
  },
  {
   "cell_type": "code",
   "execution_count": 7,
   "metadata": {},
   "outputs": [
    {
     "name": "stdout",
     "output_type": "stream",
     "text": [
      "Dataset({\n",
      "    features: ['feature', 'text', 'label', '__index_level_0__'],\n",
      "    num_rows: 1932\n",
      "})\n",
      "Dataset({\n",
      "    features: ['feature', 'text', 'label', '__index_level_0__'],\n",
      "    num_rows: 153\n",
      "})\n"
     ]
    }
   ],
   "source": [
    "# 加载查看\n",
    "train_dataset = load_from_disk('healthcare_stroke')['train']\n",
    "print(train_dataset)\n",
    "eval_dataset = load_from_disk('healthcare_stroke')['eval']\n",
    "print(eval_dataset)"
   ]
  },
  {
   "cell_type": "code",
   "execution_count": 8,
   "metadata": {},
   "outputs": [
    {
     "name": "stdout",
     "output_type": "stream",
     "text": [
      "train_dataset: 1000 932\n"
     ]
    }
   ],
   "source": [
    "# 查看两个集的类别分布\n",
    "zero = 0\n",
    "one = 0\n",
    "for i in train_dataset['label']:\n",
    "    if i == 0:\n",
    "        zero += 1\n",
    "    else:\n",
    "        one += 1\n",
    "print('train_dataset:', zero, one)"
   ]
  },
  {
   "cell_type": "code",
   "execution_count": 9,
   "metadata": {},
   "outputs": [
    {
     "name": "stdout",
     "output_type": "stream",
     "text": [
      "eval_dataset: 80 73\n"
     ]
    }
   ],
   "source": [
    "zero = 0\n",
    "one = 0\n",
    "for i in eval_dataset['label']:\n",
    "    if i == 0:\n",
    "        zero += 1\n",
    "    else:\n",
    "        one += 1\n",
    "print('eval_dataset:', zero, one)"
   ]
  },
  {
   "cell_type": "code",
   "execution_count": null,
   "metadata": {},
   "outputs": [],
   "source": []
  }
 ],
 "metadata": {
  "kernelspec": {
   "display_name": "self",
   "language": "python",
   "name": "python3"
  },
  "language_info": {
   "codemirror_mode": {
    "name": "ipython",
    "version": 3
   },
   "file_extension": ".py",
   "mimetype": "text/x-python",
   "name": "python",
   "nbconvert_exporter": "python",
   "pygments_lexer": "ipython3",
   "version": "3.9.16"
  }
 },
 "nbformat": 4,
 "nbformat_minor": 2
}
